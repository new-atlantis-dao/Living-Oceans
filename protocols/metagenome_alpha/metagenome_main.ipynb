{
 "cells": [
  {
   "cell_type": "markdown",
   "id": "36f2818e-94ab-42f7-83aa-76e3e9bcce57",
   "metadata": {},
   "source": [
    "![image](https://cdn.discordapp.com/attachments/996200880351215636/1065002848355631165/New_Atlantis.png)\n",
    "\n"
   ]
  },
  {
   "cell_type": "markdown",
   "id": "131b4fd8-1386-4120-b55a-99d87ed00ea3",
   "metadata": {
    "tags": []
   },
   "source": [
    "# Planktonic MetaGenome Prototype"
   ]
  },
  {
   "cell_type": "markdown",
   "id": "0cae3a7d-8cf8-442a-bb27-8196ce4b9a52",
   "metadata": {},
   "source": [
    "![image](https://cdn.discordapp.com/attachments/1062358966023245924/1062389491744116766/NA_MTG_based_pipeline_v_1.0.png)\n",
    "\n"
   ]
  },
  {
   "cell_type": "markdown",
   "id": "1f3a9eca-62a9-4326-91da-53d7eb062785",
   "metadata": {
    "tags": []
   },
   "source": [
    "## Summary and Purpose "
   ]
  },
  {
   "cell_type": "markdown",
   "id": "8139fca5-0d84-4723-840f-0b9fd548013c",
   "metadata": {},
   "source": []
  },
  {
   "cell_type": "markdown",
   "id": "5802f8dd-13e5-44f1-b7b5-86dbc732434c",
   "metadata": {
    "tags": []
   },
   "source": [
    "# Protocol Card"
   ]
  },
  {
   "cell_type": "markdown",
   "id": "a4f81f8c-dfc4-4cd7-a953-a225a4d8328e",
   "metadata": {
    "tags": []
   },
   "source": [
    "\n",
    "## Author: Jayson Guttierez\n",
    "---\n",
    "\n",
    " ## Citation Info:\n",
    " >  ###  Citation \n",
    " >  ### DOI/Webpage/BlogPost \n",
    " ## Correspondence:\n",
    " >  ###  Contact for Questions"
   ]
  },
  {
   "cell_type": "markdown",
   "id": "7d3e56b3-c552-45fa-8203-e103df550d19",
   "metadata": {},
   "source": [
    "---"
   ]
  },
  {
   "cell_type": "markdown",
   "id": "b053a342-23e9-4dd9-b5ab-f7f9cf8599e1",
   "metadata": {
    "tags": []
   },
   "source": [
    "# Dry Lab Steps "
   ]
  },
  {
   "cell_type": "markdown",
   "id": "d9f0c7e2-954f-4a85-a2b1-cc81d770e123",
   "metadata": {},
   "source": [
    "## System Requirements and Dependencies"
   ]
  },
  {
   "cell_type": "code",
   "execution_count": 1,
   "id": "835a43c1-a39c-4ba7-ac66-04eaff0490f9",
   "metadata": {},
   "outputs": [
    {
     "data": {
      "text/plain": [
       "'/home/jovyan/shared/material/Protocols/MetaGenome_Alpha'"
      ]
     },
     "execution_count": 1,
     "metadata": {},
     "output_type": "execute_result"
    }
   ],
   "source": [
    "import os \n",
    "os.getcwd()\n"
   ]
  },
  {
   "cell_type": "markdown",
   "id": "2d86c018-48c0-4ac8-bb9b-a6c5b108733f",
   "metadata": {},
   "source": [
    "> ### Imports for Large Code Sections "
   ]
  },
  {
   "cell_type": "code",
   "execution_count": 2,
   "id": "83e9d283-96f8-4c71-958b-a7c4a02d9e69",
   "metadata": {},
   "outputs": [
    {
     "name": "stdout",
     "output_type": "stream",
     "text": [
      "Hello World from a Python file in the module subdirectory!\n"
     ]
    }
   ],
   "source": [
    "#Majority of code contents and packages will be exported to refence module notebooks that will be imported to required cells. \n",
    "#Each Protocol will have a folder called some {protocol}_modules where most of the code will be stored, leaving only the top line functions\n",
    "#and explanations in the protocol summary notebook.\n",
    "#Examples \n",
    "#This can be used if the target is contained in a python script\n",
    "from protocol_modules.test_import import *\n",
    "\n",
    "hello_world()"
   ]
  },
  {
   "cell_type": "markdown",
   "id": "1fd64c6b-1b9b-493e-8c46-535ac6e14725",
   "metadata": {},
   "source": [
    "___\n",
    "The following can be used if the target submodule is uploaded as a Jupyter Notebook \n"
   ]
  },
  {
   "cell_type": "code",
   "execution_count": 3,
   "id": "828e4c4a-b787-43dd-b3c3-9157f8ce3442",
   "metadata": {},
   "outputs": [],
   "source": [
    "!pip install import-ipynb -q"
   ]
  },
  {
   "cell_type": "code",
   "execution_count": 9,
   "id": "14b35423-a785-4aa4-9dcf-3f105fbd9e88",
   "metadata": {},
   "outputs": [],
   "source": [
    "import import_ipynb\n",
    "from protocol_modules.test_notebook import *"
   ]
  },
  {
   "cell_type": "code",
   "execution_count": 10,
   "id": "524dd3d1-9f7e-41fc-a887-f4572b0148e7",
   "metadata": {},
   "outputs": [
    {
     "name": "stdout",
     "output_type": "stream",
     "text": [
      "Hello from a jupyter notebook in a subdirectory!\n"
     ]
    }
   ],
   "source": [
    "hello_notebook()"
   ]
  },
  {
   "cell_type": "markdown",
   "id": "3ee167c7-56d0-44ce-a239-a66e7cacb9f5",
   "metadata": {},
   "source": [
    "#### For each dry lab step, they will follow the form seen in 4.2"
   ]
  },
  {
   "cell_type": "markdown",
   "id": "ac8d3a12-670a-4b24-8a8c-32cdcd95c542",
   "metadata": {},
   "source": [
    "## QC/PERs Merging \n",
    "\n",
    "---"
   ]
  },
  {
   "cell_type": "markdown",
   "id": "9e9fe4d6-cef6-4954-a09d-1a504004221c",
   "metadata": {},
   "source": [
    "Description and Purpose \n",
    "___\n",
    "> Summary"
   ]
  },
  {
   "cell_type": "markdown",
   "id": "a3dd2087-aeae-4957-8b51-52973d272009",
   "metadata": {},
   "source": [
    "> ### Input Data "
   ]
  },
  {
   "cell_type": "code",
   "execution_count": null,
   "id": "9e717548-68e3-4cc8-8bc8-bf80952f8d65",
   "metadata": {},
   "outputs": [],
   "source": []
  },
  {
   "cell_type": "markdown",
   "id": "96a56307-1d28-4353-8792-73490cdf1bbf",
   "metadata": {},
   "source": [
    "> ### Code "
   ]
  },
  {
   "cell_type": "code",
   "execution_count": null,
   "id": "0dd5b072-a0cc-4545-bb42-cc5bc9c7a807",
   "metadata": {},
   "outputs": [],
   "source": [
    "#Assembly VM"
   ]
  },
  {
   "cell_type": "markdown",
   "id": "85461f8d-ce4a-4d7b-94cc-b5e7a56d4d23",
   "metadata": {},
   "source": [
    ">### Output Data"
   ]
  },
  {
   "cell_type": "code",
   "execution_count": null,
   "id": "d31b2ae7-1d9a-4386-866d-a19e37f51ea2",
   "metadata": {},
   "outputs": [],
   "source": []
  },
  {
   "cell_type": "markdown",
   "id": "8ea3871a-0c7e-434d-a202-ebeb364f192e",
   "metadata": {},
   "source": [
    "> ### Visualizations"
   ]
  },
  {
   "cell_type": "code",
   "execution_count": null,
   "id": "3fcc0d33-2f03-4d07-99d1-0487f996816e",
   "metadata": {},
   "outputs": [],
   "source": []
  },
  {
   "cell_type": "markdown",
   "id": "035f8d4f-4793-4740-a76b-d9e0b07538bd",
   "metadata": {
    "tags": []
   },
   "source": [
    "## Assembly Based Processing \n",
    "\n",
    "---"
   ]
  },
  {
   "cell_type": "code",
   "execution_count": null,
   "id": "ca727f4b-79b7-450f-b645-ce88d1cb92c9",
   "metadata": {},
   "outputs": [],
   "source": [
    "#Binning Vm"
   ]
  },
  {
   "cell_type": "markdown",
   "id": "bde98348-1392-4832-a4c5-7700744f2353",
   "metadata": {
    "jp-MarkdownHeadingCollapsed": true,
    "tags": []
   },
   "source": [
    "## Prokaryotic/Microeukaryotic MAGs\n",
    "\n",
    "___"
   ]
  },
  {
   "cell_type": "code",
   "execution_count": null,
   "id": "25940940-45e8-485f-882e-0c01a27fed68",
   "metadata": {},
   "outputs": [],
   "source": [
    "#Code "
   ]
  },
  {
   "cell_type": "markdown",
   "id": "5d00b999-90be-4e99-9cf5-97e8662d72ae",
   "metadata": {},
   "source": [
    "> ### Predicted OFRs \n",
    "\n",
    "___"
   ]
  },
  {
   "cell_type": "code",
   "execution_count": null,
   "id": "60d44a48-919d-403f-bb46-2d6effb99816",
   "metadata": {},
   "outputs": [],
   "source": [
    "#Code "
   ]
  },
  {
   "cell_type": "markdown",
   "id": "ab189dc8-00c5-45dd-987e-1f7c4108f327",
   "metadata": {},
   "source": [
    "> ### Taxonomic Assignment \n",
    "\n",
    "___"
   ]
  },
  {
   "cell_type": "code",
   "execution_count": null,
   "id": "15a11798-2b6e-45a7-9455-6b24a7f3b5eb",
   "metadata": {},
   "outputs": [],
   "source": [
    "#Code "
   ]
  },
  {
   "cell_type": "markdown",
   "id": "a83c892b-fb4f-4607-94e4-5787d3982503",
   "metadata": {
    "tags": []
   },
   "source": [
    "## Data Set Generation and Export\n",
    "\n",
    "___"
   ]
  },
  {
   "cell_type": "code",
   "execution_count": null,
   "id": "2d6efcb7-b05a-4860-b432-c0a99fd95d20",
   "metadata": {},
   "outputs": [],
   "source": [
    "#Code "
   ]
  },
  {
   "cell_type": "markdown",
   "id": "a878a61f-beee-4611-bde7-4a9d9dec8e53",
   "metadata": {
    "jp-MarkdownHeadingCollapsed": true,
    "tags": []
   },
   "source": [
    "## MTG Molecular Trait Profiles\n",
    "\n",
    "___"
   ]
  },
  {
   "cell_type": "code",
   "execution_count": null,
   "id": "cd07325d-d5e1-495d-bafe-2b01eadd7548",
   "metadata": {},
   "outputs": [],
   "source": [
    "#Code "
   ]
  },
  {
   "cell_type": "markdown",
   "id": "567544b9-8609-4c61-8c8b-b3a6e40fd287",
   "metadata": {},
   "source": [
    "> ### Primary Metabolism Enzyme Family \n",
    "\n",
    "___"
   ]
  },
  {
   "cell_type": "code",
   "execution_count": null,
   "id": "6264e17f-a16e-4b55-b16d-86c94e29c255",
   "metadata": {},
   "outputs": [],
   "source": [
    "#Code "
   ]
  },
  {
   "cell_type": "markdown",
   "id": "dcc9ea7d-f827-4c80-ac16-0ca914485223",
   "metadata": {},
   "source": [
    "> ### Taxa Relative Abundance \n",
    "\n",
    "___"
   ]
  },
  {
   "cell_type": "code",
   "execution_count": null,
   "id": "f05b2ba2-cc4a-4167-ac13-16faf7f3ae63",
   "metadata": {},
   "outputs": [],
   "source": [
    "#Code "
   ]
  },
  {
   "cell_type": "markdown",
   "id": "a11b579e-6192-4ed6-98c7-5e21832e55dd",
   "metadata": {},
   "source": [
    "> ### Nutrient Acquisition/Transport Gene Family Relative Abundance \n",
    "\n",
    "___"
   ]
  },
  {
   "cell_type": "code",
   "execution_count": null,
   "id": "ef68c183-7e77-4466-a51f-ac2d1d16ee8c",
   "metadata": {},
   "outputs": [],
   "source": [
    "#Code "
   ]
  },
  {
   "cell_type": "markdown",
   "id": "b3d9f1c8-5eba-4f54-98b5-104303ade75d",
   "metadata": {},
   "source": [
    "> ### Biogeochemically-Related Gene Family Relative Abundance \n",
    "\n",
    "___"
   ]
  },
  {
   "cell_type": "code",
   "execution_count": null,
   "id": "c8ef6920-4344-41bb-b0e3-669928f140a8",
   "metadata": {},
   "outputs": [],
   "source": [
    "#Code "
   ]
  },
  {
   "cell_type": "markdown",
   "id": "b7a55336-1be4-4109-aa78-b839be206ee1",
   "metadata": {},
   "source": [
    "> ### BGC Composition and Diversity \n",
    "\n",
    "___"
   ]
  },
  {
   "cell_type": "code",
   "execution_count": null,
   "id": "49a6e9a2-bea3-4866-8873-f0e6a7201a7e",
   "metadata": {},
   "outputs": [],
   "source": [
    "#Code "
   ]
  },
  {
   "cell_type": "markdown",
   "id": "38837f8d-7288-4a94-a015-4ac1fd04cba0",
   "metadata": {},
   "source": [
    "> ### TF Family Relative Abundance \n",
    "\n",
    "___"
   ]
  },
  {
   "cell_type": "code",
   "execution_count": null,
   "id": "50ae5677-4b45-47ba-9a19-bdad6d1f486d",
   "metadata": {},
   "outputs": [],
   "source": [
    "#Code "
   ]
  },
  {
   "cell_type": "markdown",
   "id": "e314946d-0fbc-47da-a5e8-30cd956a0235",
   "metadata": {},
   "source": [
    "> ### GC Content Codon Usage Bias \n",
    "\n",
    "___"
   ]
  },
  {
   "cell_type": "code",
   "execution_count": null,
   "id": "e57bc43b-116f-4abc-bee4-3293601c085b",
   "metadata": {},
   "outputs": [],
   "source": [
    "#Code "
   ]
  },
  {
   "cell_type": "markdown",
   "id": "9d4eb92a-e5ff-4ec9-b575-f61a2ae5b33c",
   "metadata": {},
   "source": [
    "## Reads Based Prolfiling \n",
    "\n",
    "___"
   ]
  },
  {
   "cell_type": "code",
   "execution_count": null,
   "id": "3ae9bf81-d137-44ad-91b7-a1b7e09c9ad5",
   "metadata": {},
   "outputs": [],
   "source": [
    "#HUMANN + plankton specific protein DB"
   ]
  },
  {
   "cell_type": "markdown",
   "id": "8477e200-8925-4659-9224-cab250c444d7",
   "metadata": {},
   "source": [
    "## Pangenome Level Molecular Trait Matrix\n",
    "\n",
    "___"
   ]
  },
  {
   "cell_type": "code",
   "execution_count": null,
   "id": "ce1503e2-2669-4b2d-bc55-7aa023228d8b",
   "metadata": {},
   "outputs": [],
   "source": [
    "#Code "
   ]
  },
  {
   "cell_type": "markdown",
   "id": "878db0d5-9ef4-4460-a15a-43705d6065b4",
   "metadata": {},
   "source": [
    "## MTG Molecular Trait Diversity Score \n",
    "\n",
    "___"
   ]
  },
  {
   "cell_type": "code",
   "execution_count": null,
   "id": "2b395dc0-b355-4c27-855e-b242e395b03f",
   "metadata": {},
   "outputs": [],
   "source": [
    "#Multidimensional Functional alpha/beta-diversity "
   ]
  },
  {
   "cell_type": "code",
   "execution_count": null,
   "id": "f108a869-2b09-4021-9f40-4dcfd52547f1",
   "metadata": {},
   "outputs": [],
   "source": []
  },
  {
   "cell_type": "code",
   "execution_count": null,
   "id": "1f3c3e9b-4c4d-41be-a59b-15cbc52975e0",
   "metadata": {},
   "outputs": [],
   "source": []
  },
  {
   "cell_type": "code",
   "execution_count": null,
   "id": "93fb159f-c360-4915-8f1e-7c7daf907ddd",
   "metadata": {},
   "outputs": [],
   "source": [
    "import ipywidgets as ipw\n",
    "from IPython.display import display"
   ]
  },
  {
   "cell_type": "code",
   "execution_count": null,
   "id": "0d4f50e7-2d02-4b51-9211-2bef5404454f",
   "metadata": {},
   "outputs": [],
   "source": [
    "w = ipw.IntSlider()\n",
    "display(w)"
   ]
  },
  {
   "cell_type": "code",
   "execution_count": null,
   "id": "a117bf47-7e41-4d2e-946d-348f4ac8a3d5",
   "metadata": {},
   "outputs": [],
   "source": [
    "print(w.value)"
   ]
  },
  {
   "cell_type": "code",
   "execution_count": null,
   "id": "84c7be9d-2869-4679-821c-30d197d0d99a",
   "metadata": {},
   "outputs": [],
   "source": []
  }
 ],
 "metadata": {
  "kernelspec": {
   "display_name": "Python 3 (ipykernel)",
   "language": "python",
   "name": "python3"
  },
  "language_info": {
   "codemirror_mode": {
    "name": "ipython",
    "version": 3
   },
   "file_extension": ".py",
   "mimetype": "text/x-python",
   "name": "python",
   "nbconvert_exporter": "python",
   "pygments_lexer": "ipython3",
   "version": "3.10.8"
  },
  "toc-autonumbering": true,
  "toc-showmarkdowntxt": true
 },
 "nbformat": 4,
 "nbformat_minor": 5
}
