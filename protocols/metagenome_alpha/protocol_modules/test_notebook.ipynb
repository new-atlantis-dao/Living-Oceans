{
 "cells": [
  {
   "cell_type": "code",
   "execution_count": null,
   "id": "2d1e0823-a19a-4359-9674-8a1b8adfe1ab",
   "metadata": {},
   "outputs": [],
   "source": [
    "def hello_notebook():\n",
    "    print(\"Hello from a jupyter notebook in a subdirectory!\")\n",
    "    print(\"New message!\")"
   ]
  }
 ],
 "metadata": {
  "kernelspec": {
   "display_name": "Python 3 (ipykernel)",
   "language": "python",
   "name": "python3"
  },
  "language_info": {
   "codemirror_mode": {
    "name": "ipython",
    "version": 3
   },
   "file_extension": ".py",
   "mimetype": "text/x-python",
   "name": "python",
   "nbconvert_exporter": "python",
   "pygments_lexer": "ipython3",
   "version": "3.10.8"
  }
 },
 "nbformat": 4,
 "nbformat_minor": 5
}
