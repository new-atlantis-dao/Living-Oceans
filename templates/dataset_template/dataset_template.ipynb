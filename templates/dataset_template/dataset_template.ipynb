{
 "cells": [
  {
   "cell_type": "markdown",
   "id": "132599e2-2518-48e5-9ac1-1c3547438daf",
   "metadata": {},
   "source": [
    "![image](https://cdn.discordapp.com/attachments/996200880351215636/1065002848355631165/New_Atlantis.png)"
   ]
  },
  {
   "cell_type": "markdown",
   "id": "b107aa67-2901-40b0-ab07-284a262f1327",
   "metadata": {},
   "source": [
    "# {Dataset Card}\n",
    "- ### MPA Name\n",
    "- ### MPA Location\n",
    "- ### Biome\n",
    "- ### Classification\n",
    "- ### Last Updated\n",
    "- ### Sample Counts\n",
    "- ### Description\n",
    "- ### Basic Data Details"
   ]
  },
  {
   "cell_type": "markdown",
   "id": "64966db9-d600-4565-aae6-06e83f4930f1",
   "metadata": {},
   "source": [
    "# {Data Upload Class}"
   ]
  },
  {
   "cell_type": "markdown",
   "id": "c16ac9ee-9a9d-4e2c-a432-3dfd39c6e811",
   "metadata": {},
   "source": [
    "# {Widgets}\n",
    "  - ### Viewer\n",
    "  - ### Map \n",
    "  - ### Analysis\n",
    "  - ### Comparison\n",
    "  - ### Sequence Catalog "
   ]
  },
  {
   "cell_type": "markdown",
   "id": "8164e579-e623-4be3-8d09-007532c220d4",
   "metadata": {},
   "source": [
    "# {Creation Protocol}"
   ]
  },
  {
   "cell_type": "markdown",
   "id": "dafb34cf-e2e2-4690-95b9-c22addfe59fa",
   "metadata": {},
   "source": [
    "# {Metadata}"
   ]
  },
  {
   "cell_type": "markdown",
   "id": "e2a48c94-f81f-4b7e-96e5-6621890cf401",
   "metadata": {},
   "source": [
    "\n",
    "## {Author}\n",
    "---\n",
    "\n",
    " ### Citation Info:\n",
    " >  ####  Citation \n",
    " >  #### DOI/Webpage/BlogPost \n",
    " ### Correspondence:\n",
    " >  ####  Contact for Questions"
   ]
  },
  {
   "cell_type": "markdown",
   "id": "1dda52ff-ff53-4dee-89a9-c7e05690f7c8",
   "metadata": {},
   "source": [
    "## {Related studies and publications}"
   ]
  },
  {
   "cell_type": "code",
   "execution_count": null,
   "id": "596da837-0d7d-4516-884e-40db975d1acf",
   "metadata": {},
   "outputs": [],
   "source": []
  }
 ],
 "metadata": {
  "kernelspec": {
   "display_name": "Python 3 (ipykernel)",
   "language": "python",
   "name": "python3"
  },
  "language_info": {
   "codemirror_mode": {
    "name": "ipython",
    "version": 3
   },
   "file_extension": ".py",
   "mimetype": "text/x-python",
   "name": "python",
   "nbconvert_exporter": "python",
   "pygments_lexer": "ipython3",
   "version": "3.10.8"
  }
 },
 "nbformat": 4,
 "nbformat_minor": 5
}
