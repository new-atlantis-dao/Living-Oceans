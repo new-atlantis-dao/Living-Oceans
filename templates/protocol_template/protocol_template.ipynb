{
 "cells": [
  {
   "cell_type": "markdown",
   "id": "37cfa967-c810-4398-bdd4-050477c84afb",
   "metadata": {},
   "source": [
    "![image](https://newatlantis.io/static/media/logo.2099f81a862bb27acdb1.png)"
   ]
  },
  {
   "cell_type": "markdown",
   "id": "3ca1b0e8-c096-416e-a175-7d73a933bc97",
   "metadata": {
    "tags": []
   },
   "source": [
    "# {Protocol Title}"
   ]
  },
  {
   "cell_type": "markdown",
   "id": "c3bc6c32-9ec1-4060-b541-69e47cd11926",
   "metadata": {},
   "source": [
    "### Diagram/Flowchart"
   ]
  },
  {
   "cell_type": "markdown",
   "id": "0ba91a47-5cf1-4d81-8980-eb9c18bbc899",
   "metadata": {
    "tags": []
   },
   "source": [
    "\n",
    "## {Author}\n",
    "---\n",
    "\n",
    " ### Citation Info:\n",
    " >  ####  Citation \n",
    " >  #### DOI/Webpage/BlogPost \n",
    " ### Correspondence:\n",
    " >  ####  Contact for Questions"
   ]
  },
  {
   "cell_type": "code",
   "execution_count": 1,
   "id": "7023ddeb-8c5e-4abd-9076-4c1496b8fddf",
   "metadata": {},
   "outputs": [],
   "source": []
  },
  {
   "cell_type": "code",
   "execution_count": null,
   "id": "04ed5528-9179-416e-9291-2b050de7091c",
   "metadata": {},
   "outputs": [],
   "source": []
  },
  {
   "cell_type": "code",
   "execution_count": null,
   "id": "73a26563-45fd-4f32-9a44-c46fdae8572e",
   "metadata": {},
   "outputs": [],
   "source": []
  },
  {
   "cell_type": "code",
   "execution_count": null,
   "id": "a3c52c37-b2a2-4d92-802c-d4814c2f617b",
   "metadata": {},
   "outputs": [],
   "source": []
  },
  {
   "cell_type": "code",
   "execution_count": null,
   "id": "3578b309-4dda-42fa-ab9e-b47337072e5e",
   "metadata": {},
   "outputs": [],
   "source": []
  },
  {
   "cell_type": "code",
   "execution_count": null,
   "id": "86899246-c78e-4195-b4b3-8247f9bb09f9",
   "metadata": {},
   "outputs": [],
   "source": []
  },
  {
   "cell_type": "code",
   "execution_count": null,
   "id": "d352048b-7f3d-45f3-8a07-8e03ffb3a355",
   "metadata": {},
   "outputs": [],
   "source": []
  },
  {
   "cell_type": "code",
   "execution_count": 1,
   "id": "13705ac0-c45c-4544-8624-ad9dbc9ad490",
   "metadata": {},
   "outputs": [],
   "source": [
    "#Scratch Widgets \n",
    "!pip install ipywidgets -q\n",
    "import ipywidgets as ipw\n"
   ]
  },
  {
   "cell_type": "code",
   "execution_count": 2,
   "id": "c13e74eb-43d9-49c3-912a-b6ae1960395a",
   "metadata": {},
   "outputs": [
    {
     "data": {
      "application/vnd.jupyter.widget-view+json": {
       "model_id": "2c3cf70f07f44c4591489a329e03688e",
       "version_major": 2,
       "version_minor": 0
      },
      "text/plain": [
       "IntSlider(value=0)"
      ]
     },
     "metadata": {},
     "output_type": "display_data"
    }
   ],
   "source": [
    "w = ipw.IntSlider()\n",
    "display(w)"
   ]
  },
  {
   "cell_type": "code",
   "execution_count": null,
   "id": "87f7a222-fb6c-4054-85c8-a2325adb99c7",
   "metadata": {},
   "outputs": [],
   "source": []
  }
 ],
 "metadata": {
  "kernelspec": {
   "display_name": "Python 3 (ipykernel)",
   "language": "python",
   "name": "python3"
  },
  "language_info": {
   "codemirror_mode": {
    "name": "ipython",
    "version": 3
   },
   "file_extension": ".py",
   "mimetype": "text/x-python",
   "name": "python",
   "nbconvert_exporter": "python",
   "pygments_lexer": "ipython3",
   "version": "3.10.8"
  }
 },
 "nbformat": 4,
 "nbformat_minor": 5
}
